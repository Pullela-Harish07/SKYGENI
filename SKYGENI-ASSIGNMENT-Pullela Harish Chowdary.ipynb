{
 "cells": [
  {
   "cell_type": "code",
   "execution_count": 105,
   "id": "726b7791",
   "metadata": {},
   "outputs": [],
   "source": [
    "import numpy as np\n",
    "import pandas as pd\n",
    "import seaborn as sns\n",
    "import matplotlib.pyplot as plt"
   ]
  },
  {
   "cell_type": "code",
   "execution_count": 106,
   "id": "569708ff",
   "metadata": {},
   "outputs": [],
   "source": [
    "SKYA=pd.read_csv(\"C:/Users/Harish/GRE_Reg_Data.csv\")"
   ]
  },
  {
   "cell_type": "code",
   "execution_count": 107,
   "id": "5b0baaef",
   "metadata": {},
   "outputs": [
    {
     "data": {
      "text/html": [
       "<div>\n",
       "<style scoped>\n",
       "    .dataframe tbody tr th:only-of-type {\n",
       "        vertical-align: middle;\n",
       "    }\n",
       "\n",
       "    .dataframe tbody tr th {\n",
       "        vertical-align: top;\n",
       "    }\n",
       "\n",
       "    .dataframe thead th {\n",
       "        text-align: right;\n",
       "    }\n",
       "</style>\n",
       "<table border=\"1\" class=\"dataframe\">\n",
       "  <thead>\n",
       "    <tr style=\"text-align: right;\">\n",
       "      <th></th>\n",
       "      <th>REGISTRATION_NO</th>\n",
       "      <th>Date Registered</th>\n",
       "      <th>DATE OF EXAM OCC</th>\n",
       "      <th>TIME OCC</th>\n",
       "      <th>Age</th>\n",
       "      <th>Sex</th>\n",
       "    </tr>\n",
       "  </thead>\n",
       "  <tbody>\n",
       "    <tr>\n",
       "      <th>0</th>\n",
       "      <td>221412410</td>\n",
       "      <td>6/15/2022</td>\n",
       "      <td>11/12/2020</td>\n",
       "      <td>1700</td>\n",
       "      <td>0</td>\n",
       "      <td>NaN</td>\n",
       "    </tr>\n",
       "    <tr>\n",
       "      <th>1</th>\n",
       "      <td>220314085</td>\n",
       "      <td>7/22/2022</td>\n",
       "      <td>5/12/2020</td>\n",
       "      <td>1110</td>\n",
       "      <td>27</td>\n",
       "      <td>F</td>\n",
       "    </tr>\n",
       "    <tr>\n",
       "      <th>2</th>\n",
       "      <td>222013040</td>\n",
       "      <td>8/6/2022</td>\n",
       "      <td>6/4/2020</td>\n",
       "      <td>1620</td>\n",
       "      <td>60</td>\n",
       "      <td>M</td>\n",
       "    </tr>\n",
       "    <tr>\n",
       "      <th>3</th>\n",
       "      <td>220614831</td>\n",
       "      <td>8/18/2022</td>\n",
       "      <td>8/17/2020</td>\n",
       "      <td>1200</td>\n",
       "      <td>28</td>\n",
       "      <td>M</td>\n",
       "    </tr>\n",
       "    <tr>\n",
       "      <th>4</th>\n",
       "      <td>231207725</td>\n",
       "      <td>2/27/2023</td>\n",
       "      <td>1/27/2020</td>\n",
       "      <td>635</td>\n",
       "      <td>37</td>\n",
       "      <td>M</td>\n",
       "    </tr>\n",
       "  </tbody>\n",
       "</table>\n",
       "</div>"
      ],
      "text/plain": [
       "   REGISTRATION_NO Date Registered DATE OF EXAM OCC  TIME OCC  Age  Sex\n",
       "0        221412410       6/15/2022       11/12/2020      1700    0  NaN\n",
       "1        220314085       7/22/2022        5/12/2020      1110   27    F\n",
       "2        222013040        8/6/2022         6/4/2020      1620   60    M\n",
       "3        220614831       8/18/2022        8/17/2020      1200   28    M\n",
       "4        231207725       2/27/2023        1/27/2020       635   37    M"
      ]
     },
     "execution_count": 107,
     "metadata": {},
     "output_type": "execute_result"
    }
   ],
   "source": [
    "SKYA.head()"
   ]
  },
  {
   "cell_type": "code",
   "execution_count": 108,
   "id": "3210f23a",
   "metadata": {},
   "outputs": [
    {
     "data": {
      "text/plain": [
       "(247988, 6)"
      ]
     },
     "execution_count": 108,
     "metadata": {},
     "output_type": "execute_result"
    }
   ],
   "source": [
    "SKYA.shape"
   ]
  },
  {
   "cell_type": "code",
   "execution_count": 109,
   "id": "995db2cf",
   "metadata": {},
   "outputs": [
    {
     "data": {
      "text/plain": [
       "Index(['REGISTRATION_NO', 'Date Registered', 'DATE OF EXAM OCC', 'TIME OCC',\n",
       "       'Age', 'Sex'],\n",
       "      dtype='object')"
      ]
     },
     "execution_count": 109,
     "metadata": {},
     "output_type": "execute_result"
    }
   ],
   "source": [
    "SKYA.columns"
   ]
  },
  {
   "cell_type": "code",
   "execution_count": 110,
   "id": "6ee7242d",
   "metadata": {},
   "outputs": [
    {
     "data": {
      "text/plain": [
       "REGISTRATION_NO     False\n",
       "Date Registered     False\n",
       "DATE OF EXAM OCC    False\n",
       "TIME OCC            False\n",
       "Age                 False\n",
       "Sex                  True\n",
       "dtype: bool"
      ]
     },
     "execution_count": 110,
     "metadata": {},
     "output_type": "execute_result"
    }
   ],
   "source": [
    "SKYA.isna().any()"
   ]
  },
  {
   "cell_type": "code",
   "execution_count": 111,
   "id": "8d638a36",
   "metadata": {},
   "outputs": [
    {
     "name": "stdout",
     "output_type": "stream",
     "text": [
      "<class 'pandas.core.frame.DataFrame'>\n",
      "RangeIndex: 247988 entries, 0 to 247987\n",
      "Data columns (total 6 columns):\n",
      " #   Column            Non-Null Count   Dtype \n",
      "---  ------            --------------   ----- \n",
      " 0   REGISTRATION_NO   247988 non-null  int64 \n",
      " 1   Date Registered   247988 non-null  object\n",
      " 2   DATE OF EXAM OCC  247988 non-null  object\n",
      " 3   TIME OCC          247988 non-null  int64 \n",
      " 4   Age               247988 non-null  int64 \n",
      " 5   Sex               215740 non-null  object\n",
      "dtypes: int64(3), object(3)\n",
      "memory usage: 11.4+ MB\n"
     ]
    }
   ],
   "source": [
    "SKYA.info()"
   ]
  },
  {
   "cell_type": "code",
   "execution_count": 112,
   "id": "e1edd1fc",
   "metadata": {},
   "outputs": [
    {
     "data": {
      "text/html": [
       "<div>\n",
       "<style scoped>\n",
       "    .dataframe tbody tr th:only-of-type {\n",
       "        vertical-align: middle;\n",
       "    }\n",
       "\n",
       "    .dataframe tbody tr th {\n",
       "        vertical-align: top;\n",
       "    }\n",
       "\n",
       "    .dataframe thead th {\n",
       "        text-align: right;\n",
       "    }\n",
       "</style>\n",
       "<table border=\"1\" class=\"dataframe\">\n",
       "  <thead>\n",
       "    <tr style=\"text-align: right;\">\n",
       "      <th></th>\n",
       "      <th>REGISTRATION_NO</th>\n",
       "      <th>TIME OCC</th>\n",
       "      <th>Age</th>\n",
       "    </tr>\n",
       "  </thead>\n",
       "  <tbody>\n",
       "    <tr>\n",
       "      <th>count</th>\n",
       "      <td>2.479880e+05</td>\n",
       "      <td>247988.000000</td>\n",
       "      <td>247988.000000</td>\n",
       "    </tr>\n",
       "    <tr>\n",
       "      <th>mean</th>\n",
       "      <td>2.256571e+08</td>\n",
       "      <td>1317.184662</td>\n",
       "      <td>29.954764</td>\n",
       "    </tr>\n",
       "    <tr>\n",
       "      <th>std</th>\n",
       "      <td>5.042345e+06</td>\n",
       "      <td>655.090477</td>\n",
       "      <td>21.901016</td>\n",
       "    </tr>\n",
       "    <tr>\n",
       "      <th>min</th>\n",
       "      <td>2.203000e+03</td>\n",
       "      <td>1.000000</td>\n",
       "      <td>-2.000000</td>\n",
       "    </tr>\n",
       "    <tr>\n",
       "      <th>25%</th>\n",
       "      <td>2.210130e+08</td>\n",
       "      <td>845.000000</td>\n",
       "      <td>0.000000</td>\n",
       "    </tr>\n",
       "    <tr>\n",
       "      <th>50%</th>\n",
       "      <td>2.220131e+08</td>\n",
       "      <td>1400.000000</td>\n",
       "      <td>31.000000</td>\n",
       "    </tr>\n",
       "    <tr>\n",
       "      <th>75%</th>\n",
       "      <td>2.310058e+08</td>\n",
       "      <td>1843.000000</td>\n",
       "      <td>45.000000</td>\n",
       "    </tr>\n",
       "    <tr>\n",
       "      <th>max</th>\n",
       "      <td>2.399165e+08</td>\n",
       "      <td>2359.000000</td>\n",
       "      <td>99.000000</td>\n",
       "    </tr>\n",
       "  </tbody>\n",
       "</table>\n",
       "</div>"
      ],
      "text/plain": [
       "       REGISTRATION_NO       TIME OCC            Age\n",
       "count     2.479880e+05  247988.000000  247988.000000\n",
       "mean      2.256571e+08    1317.184662      29.954764\n",
       "std       5.042345e+06     655.090477      21.901016\n",
       "min       2.203000e+03       1.000000      -2.000000\n",
       "25%       2.210130e+08     845.000000       0.000000\n",
       "50%       2.220131e+08    1400.000000      31.000000\n",
       "75%       2.310058e+08    1843.000000      45.000000\n",
       "max       2.399165e+08    2359.000000      99.000000"
      ]
     },
     "execution_count": 112,
     "metadata": {},
     "output_type": "execute_result"
    }
   ],
   "source": [
    "SKYA.describe()"
   ]
  },
  {
   "cell_type": "markdown",
   "id": "b509fdae",
   "metadata": {},
   "source": [
    "# Question 1: Which hour has the highest frequency of candidates scheduled to take up exams? \n",
    "\n",
    "# Show the plot diagram of the frequencies."
   ]
  },
  {
   "cell_type": "markdown",
   "id": "b8b4af36",
   "metadata": {},
   "source": [
    "# Firstly in given dataset there is no Hours and minutes data where TIME OCC has all integer values. \n",
    "\n",
    "# So need of creating new column named Hour_Minute is required\n",
    "\n",
    "# Firstly TIME OCC need to be converted to string used .astype(str)\n",
    "\n",
    "# From that str we need to extract hour and minute format like HH:MM so the number or integer should be in 4 digit long\n",
    "\n",
    "# If the number is no 4 digit long it will assign 0 automatically - str.strip.zfill \n",
    "\n",
    "# For conversion hour will take first 2 digits and minutes will take remaining 2 digits like str[:2], str[2:]\n",
    "\n",
    "# Finally return HH:MM format"
   ]
  },
  {
   "cell_type": "code",
   "execution_count": 113,
   "id": "e111d170",
   "metadata": {},
   "outputs": [],
   "source": [
    "SKYA['TIME OCC'] = SKYA['TIME OCC'].astype(str)\n",
    "\n",
    "def convert_to_hhmm(time_str):\n",
    "    time_str = time_str.strip().zfill(4)\n",
    "    hour = time_str[:2]\n",
    "    minute = time_str[2:]\n",
    "    return f\"{hour}:{minute}\""
   ]
  },
  {
   "cell_type": "code",
   "execution_count": 114,
   "id": "7b6521f8",
   "metadata": {},
   "outputs": [
    {
     "data": {
      "text/html": [
       "<div>\n",
       "<style scoped>\n",
       "    .dataframe tbody tr th:only-of-type {\n",
       "        vertical-align: middle;\n",
       "    }\n",
       "\n",
       "    .dataframe tbody tr th {\n",
       "        vertical-align: top;\n",
       "    }\n",
       "\n",
       "    .dataframe thead th {\n",
       "        text-align: right;\n",
       "    }\n",
       "</style>\n",
       "<table border=\"1\" class=\"dataframe\">\n",
       "  <thead>\n",
       "    <tr style=\"text-align: right;\">\n",
       "      <th></th>\n",
       "      <th>TIME OCC</th>\n",
       "      <th>Hour_Minute</th>\n",
       "    </tr>\n",
       "  </thead>\n",
       "  <tbody>\n",
       "    <tr>\n",
       "      <th>0</th>\n",
       "      <td>1700</td>\n",
       "      <td>17:00</td>\n",
       "    </tr>\n",
       "    <tr>\n",
       "      <th>1</th>\n",
       "      <td>1110</td>\n",
       "      <td>11:10</td>\n",
       "    </tr>\n",
       "    <tr>\n",
       "      <th>2</th>\n",
       "      <td>1620</td>\n",
       "      <td>16:20</td>\n",
       "    </tr>\n",
       "    <tr>\n",
       "      <th>3</th>\n",
       "      <td>1200</td>\n",
       "      <td>12:00</td>\n",
       "    </tr>\n",
       "    <tr>\n",
       "      <th>4</th>\n",
       "      <td>635</td>\n",
       "      <td>06:35</td>\n",
       "    </tr>\n",
       "  </tbody>\n",
       "</table>\n",
       "</div>"
      ],
      "text/plain": [
       "  TIME OCC Hour_Minute\n",
       "0     1700       17:00\n",
       "1     1110       11:10\n",
       "2     1620       16:20\n",
       "3     1200       12:00\n",
       "4      635       06:35"
      ]
     },
     "execution_count": 114,
     "metadata": {},
     "output_type": "execute_result"
    }
   ],
   "source": [
    "SKYA['Hour_Minute'] = SKYA['TIME OCC'].apply(convert_to_hhmm)\n",
    "\n",
    "SKYA[['TIME OCC', 'Hour_Minute']].head()"
   ]
  },
  {
   "cell_type": "markdown",
   "id": "f6cd826e",
   "metadata": {},
   "source": [
    "# printing the frquencies"
   ]
  },
  {
   "cell_type": "code",
   "execution_count": 115,
   "id": "be4caf09",
   "metadata": {},
   "outputs": [
    {
     "name": "stdout",
     "output_type": "stream",
     "text": [
      "00:01    4433\n",
      "00:02      87\n",
      "00:03      76\n",
      "00:04      58\n",
      "00:05     809\n",
      "         ... \n",
      "23:55     262\n",
      "23:56      13\n",
      "23:57      14\n",
      "23:58      27\n",
      "23:59     167\n",
      "Name: Hour_Minute, Length: 1439, dtype: int64\n"
     ]
    }
   ],
   "source": [
    "hour_frequency = SKYA['Hour_Minute'].value_counts().sort_index()\n",
    "print(hour_frequency)"
   ]
  },
  {
   "cell_type": "markdown",
   "id": "3b3e91bd",
   "metadata": {},
   "source": [
    "# Plotting the frequencies "
   ]
  },
  {
   "cell_type": "code",
   "execution_count": 116,
   "id": "8bdc8b65",
   "metadata": {},
   "outputs": [
    {
     "data": {
      "image/png": "[encoded data removed]",
      "text/plain": [
       "<Figure size 1440x720 with 1 Axes>"
      ]
     },
     "metadata": {
      "needs_background": "light"
     },
     "output_type": "display_data"
    },
    {
     "name": "stdout",
     "output_type": "stream",
     "text": [
      "The hour with the highest frequency of candidates scheduled to take exams is: 12:00\n"
     ]
    }
   ],
   "source": [
    "plt.figure(figsize=(20, 10))\n",
    "plt.plot(hour_frequency.index, hour_frequency.values)\n",
    "plt.title('Frequency of Candidates Scheduled by Hour_Minute(format is in HH:MM)')\n",
    "plt.xlabel('Hour of the Day')\n",
    "plt.ylabel('Number of Candidates')\n",
    "plt.grid(True)\n",
    "plt.show()\n",
    "\n",
    "highest_frequency_hour = hour_frequency.idxmax()\n",
    "print(f'The hour with the highest frequency of candidates scheduled to take exams is: {highest_frequency_hour}')"
   ]
  },
  {
   "cell_type": "markdown",
   "id": "9934d51b",
   "metadata": {},
   "source": [
    "# Conclusion: At 12'o clock the more number of candidates gave their exam"
   ]
  },
  {
   "cell_type": "markdown",
   "id": "150cd82d",
   "metadata": {},
   "source": [
    "# Question 2: Create stacked bar graph of the number of candidates taken exam both at day and night (Day being 06:00 AM to 09:00 PM)"
   ]
  },
  {
   "cell_type": "markdown",
   "id": "0ec162a4",
   "metadata": {},
   "source": [
    "# Here first as per question Day and Night column should be created where after 6:00 am to 9:00(21:00) pm is day and else is night.\n",
    "\n",
    "# First spliting the Hour_Minute column to Hour and Minutes column and calculating Hours or directly we can use Hour column. \n",
    "\n",
    "# Converting minutes to hours and later classifying those hours to Day and Night values in and assign new column named Day_Night\n",
    "\n",
    "# Finally printing the rows"
   ]
  },
  {
   "cell_type": "code",
   "execution_count": 117,
   "id": "9ac932d2",
   "metadata": {},
   "outputs": [
    {
     "name": "stdout",
     "output_type": "stream",
     "text": [
      "Day      174932\n",
      "Night     73056\n",
      "Name: Day_Night, dtype: int64\n"
     ]
    },
    {
     "data": {
      "text/html": [
       "<div>\n",
       "<style scoped>\n",
       "    .dataframe tbody tr th:only-of-type {\n",
       "        vertical-align: middle;\n",
       "    }\n",
       "\n",
       "    .dataframe tbody tr th {\n",
       "        vertical-align: top;\n",
       "    }\n",
       "\n",
       "    .dataframe thead th {\n",
       "        text-align: right;\n",
       "    }\n",
       "</style>\n",
       "<table border=\"1\" class=\"dataframe\">\n",
       "  <thead>\n",
       "    <tr style=\"text-align: right;\">\n",
       "      <th></th>\n",
       "      <th>TIME OCC</th>\n",
       "      <th>Hour_Minute</th>\n",
       "      <th>Hour</th>\n",
       "      <th>Minutes</th>\n",
       "      <th>Hours</th>\n",
       "      <th>Day_Night</th>\n",
       "    </tr>\n",
       "  </thead>\n",
       "  <tbody>\n",
       "    <tr>\n",
       "      <th>0</th>\n",
       "      <td>1700</td>\n",
       "      <td>17:00</td>\n",
       "      <td>17</td>\n",
       "      <td>0</td>\n",
       "      <td>17.000000</td>\n",
       "      <td>Day</td>\n",
       "    </tr>\n",
       "    <tr>\n",
       "      <th>1</th>\n",
       "      <td>1110</td>\n",
       "      <td>11:10</td>\n",
       "      <td>11</td>\n",
       "      <td>10</td>\n",
       "      <td>11.166667</td>\n",
       "      <td>Day</td>\n",
       "    </tr>\n",
       "    <tr>\n",
       "      <th>2</th>\n",
       "      <td>1620</td>\n",
       "      <td>16:20</td>\n",
       "      <td>16</td>\n",
       "      <td>20</td>\n",
       "      <td>16.333333</td>\n",
       "      <td>Day</td>\n",
       "    </tr>\n",
       "    <tr>\n",
       "      <th>3</th>\n",
       "      <td>1200</td>\n",
       "      <td>12:00</td>\n",
       "      <td>12</td>\n",
       "      <td>0</td>\n",
       "      <td>12.000000</td>\n",
       "      <td>Day</td>\n",
       "    </tr>\n",
       "    <tr>\n",
       "      <th>4</th>\n",
       "      <td>635</td>\n",
       "      <td>06:35</td>\n",
       "      <td>6</td>\n",
       "      <td>35</td>\n",
       "      <td>6.583333</td>\n",
       "      <td>Day</td>\n",
       "    </tr>\n",
       "  </tbody>\n",
       "</table>\n",
       "</div>"
      ],
      "text/plain": [
       "  TIME OCC Hour_Minute  Hour  Minutes      Hours Day_Night\n",
       "0     1700       17:00    17        0  17.000000       Day\n",
       "1     1110       11:10    11       10  11.166667       Day\n",
       "2     1620       16:20    16       20  16.333333       Day\n",
       "3     1200       12:00    12        0  12.000000       Day\n",
       "4      635       06:35     6       35   6.583333       Day"
      ]
     },
     "execution_count": 117,
     "metadata": {},
     "output_type": "execute_result"
    }
   ],
   "source": [
    "SKYA['Hour'] = SKYA['Hour_Minute'].str[:2].astype(int)\n",
    "SKYA['Minutes'] = SKYA['Hour_Minute'].str[3:].astype(int)\n",
    "SKYA['Hours'] = SKYA['Hour'] + SKYA['Minutes'] / 60\n",
    "\n",
    "def classify_day_night(Hours):\n",
    "    if 6 <= Hours < 21:\n",
    "        return \"Day\"\n",
    "    else:\n",
    "        return \"Night\"\n",
    "\n",
    "SKYA['Day_Night'] = SKYA['Hours'].apply(classify_day_night)\n",
    "\n",
    "day_night_counts = SKYA['Day_Night'].value_counts()\n",
    "\n",
    "print(day_night_counts)\n",
    "\n",
    "SKYA[['TIME OCC', 'Hour_Minute', 'Hour', 'Minutes', 'Hours', 'Day_Night']].head()"
   ]
  },
  {
   "cell_type": "markdown",
   "id": "470833e6",
   "metadata": {},
   "source": [
    "# Printing the Day and Night frequencies"
   ]
  },
  {
   "cell_type": "code",
   "execution_count": 118,
   "id": "48fe5f15",
   "metadata": {},
   "outputs": [
    {
     "name": "stdout",
     "output_type": "stream",
     "text": [
      "Day      174932\n",
      "Night     73056\n",
      "Name: Day_Night, dtype: int64\n"
     ]
    }
   ],
   "source": [
    "day_night_frequency = SKYA['Day_Night'].value_counts()\n",
    "\n",
    "print(day_night_frequency)"
   ]
  },
  {
   "cell_type": "markdown",
   "id": "5145f5a5",
   "metadata": {},
   "source": [
    "# Plotting the bar graph"
   ]
  },
  {
   "cell_type": "code",
   "execution_count": 120,
   "id": "15c6dd76",
   "metadata": {},
   "outputs": [
    {
     "data": {
      "image/png": "[encoded data removed]",
      "text/plain": [
       "<Figure size 720x432 with 1 Axes>"
      ]
     },
     "metadata": {
      "needs_background": "light"
     },
     "output_type": "display_data"
    }
   ],
   "source": [
    "plt.figure(figsize=(10, 6))\n",
    "day_night_frequency.plot(kind='bar', color=['blue', 'green'])\n",
    "plt.title('Number of Candidates Taking Exams During Day and Night')\n",
    "plt.xlabel('Time of Day')\n",
    "plt.ylabel('Number of Candidates')\n",
    "plt.show()"
   ]
  },
  {
   "cell_type": "markdown",
   "id": "c23c8a90",
   "metadata": {},
   "source": [
    "# Conclusion: During Day time more candidates gave their exam"
   ]
  },
  {
   "cell_type": "markdown",
   "id": "111c3545",
   "metadata": {},
   "source": [
    "# Question 3: Identify the number of candidates scheduled to write exam in different age groups, with age group labels \"0-17\", \"18-25\", \"26-34\", \"35-44\", \"45-54\", \"55-64\", and \"65+\" as the index and the frequency of candidates scheduled as the values."
   ]
  },
  {
   "cell_type": "markdown",
   "id": "8245941d",
   "metadata": {},
   "source": [
    "# Firstly i created new column named Age_Group where i used basic functions, if and else statements using already given data which is Age"
   ]
  },
  {
   "cell_type": "code",
   "execution_count": 121,
   "id": "e73b9f64",
   "metadata": {},
   "outputs": [],
   "source": [
    "def categorize_age(Age):\n",
    "    if Age <= 17:\n",
    "        return \"0-17\"\n",
    "    elif Age >= 18 and Age <= 25:\n",
    "        return \"18-25\"\n",
    "    elif Age >= 26 and Age <= 34:\n",
    "        return \"26-34\"\n",
    "    elif Age >= 35 and Age <= 44:\n",
    "        return \"35-44\"\n",
    "    elif Age >= 45 and Age <= 54:\n",
    "        return \"45-54\"\n",
    "    elif Age >= 55 and Age <= 64:\n",
    "        return \"55-64\"\n",
    "    else:\n",
    "        return \"65+\"\n",
    "\n",
    "SKYA['Age_Group'] = SKYA['Age'].apply(categorize_age)"
   ]
  },
  {
   "cell_type": "code",
   "execution_count": 125,
   "id": "ca342fa9",
   "metadata": {},
   "outputs": [
    {
     "data": {
      "text/html": [
       "<div>\n",
       "<style scoped>\n",
       "    .dataframe tbody tr th:only-of-type {\n",
       "        vertical-align: middle;\n",
       "    }\n",
       "\n",
       "    .dataframe tbody tr th {\n",
       "        vertical-align: top;\n",
       "    }\n",
       "\n",
       "    .dataframe thead th {\n",
       "        text-align: right;\n",
       "    }\n",
       "</style>\n",
       "<table border=\"1\" class=\"dataframe\">\n",
       "  <thead>\n",
       "    <tr style=\"text-align: right;\">\n",
       "      <th></th>\n",
       "      <th>REGISTRATION_NO</th>\n",
       "      <th>Date Registered</th>\n",
       "      <th>DATE OF EXAM OCC</th>\n",
       "      <th>TIME OCC</th>\n",
       "      <th>Age</th>\n",
       "      <th>Sex</th>\n",
       "      <th>Hour_Minute</th>\n",
       "      <th>Hour</th>\n",
       "      <th>Minutes</th>\n",
       "      <th>Hours</th>\n",
       "      <th>Day_Night</th>\n",
       "      <th>Age_Group</th>\n",
       "    </tr>\n",
       "  </thead>\n",
       "  <tbody>\n",
       "    <tr>\n",
       "      <th>0</th>\n",
       "      <td>221412410</td>\n",
       "      <td>6/15/2022</td>\n",
       "      <td>11/12/2020</td>\n",
       "      <td>1700</td>\n",
       "      <td>0</td>\n",
       "      <td>NaN</td>\n",
       "      <td>17:00</td>\n",
       "      <td>17</td>\n",
       "      <td>0</td>\n",
       "      <td>17.000000</td>\n",
       "      <td>Day</td>\n",
       "      <td>0-17</td>\n",
       "    </tr>\n",
       "    <tr>\n",
       "      <th>1</th>\n",
       "      <td>220314085</td>\n",
       "      <td>7/22/2022</td>\n",
       "      <td>5/12/2020</td>\n",
       "      <td>1110</td>\n",
       "      <td>27</td>\n",
       "      <td>F</td>\n",
       "      <td>11:10</td>\n",
       "      <td>11</td>\n",
       "      <td>10</td>\n",
       "      <td>11.166667</td>\n",
       "      <td>Day</td>\n",
       "      <td>26-34</td>\n",
       "    </tr>\n",
       "    <tr>\n",
       "      <th>2</th>\n",
       "      <td>222013040</td>\n",
       "      <td>8/6/2022</td>\n",
       "      <td>6/4/2020</td>\n",
       "      <td>1620</td>\n",
       "      <td>60</td>\n",
       "      <td>M</td>\n",
       "      <td>16:20</td>\n",
       "      <td>16</td>\n",
       "      <td>20</td>\n",
       "      <td>16.333333</td>\n",
       "      <td>Day</td>\n",
       "      <td>55-64</td>\n",
       "    </tr>\n",
       "    <tr>\n",
       "      <th>3</th>\n",
       "      <td>220614831</td>\n",
       "      <td>8/18/2022</td>\n",
       "      <td>8/17/2020</td>\n",
       "      <td>1200</td>\n",
       "      <td>28</td>\n",
       "      <td>M</td>\n",
       "      <td>12:00</td>\n",
       "      <td>12</td>\n",
       "      <td>0</td>\n",
       "      <td>12.000000</td>\n",
       "      <td>Day</td>\n",
       "      <td>26-34</td>\n",
       "    </tr>\n",
       "    <tr>\n",
       "      <th>4</th>\n",
       "      <td>231207725</td>\n",
       "      <td>2/27/2023</td>\n",
       "      <td>1/27/2020</td>\n",
       "      <td>635</td>\n",
       "      <td>37</td>\n",
       "      <td>M</td>\n",
       "      <td>06:35</td>\n",
       "      <td>6</td>\n",
       "      <td>35</td>\n",
       "      <td>6.583333</td>\n",
       "      <td>Day</td>\n",
       "      <td>35-44</td>\n",
       "    </tr>\n",
       "    <tr>\n",
       "      <th>...</th>\n",
       "      <td>...</td>\n",
       "      <td>...</td>\n",
       "      <td>...</td>\n",
       "      <td>...</td>\n",
       "      <td>...</td>\n",
       "      <td>...</td>\n",
       "      <td>...</td>\n",
       "      <td>...</td>\n",
       "      <td>...</td>\n",
       "      <td>...</td>\n",
       "      <td>...</td>\n",
       "      <td>...</td>\n",
       "    </tr>\n",
       "    <tr>\n",
       "      <th>247983</th>\n",
       "      <td>231510379</td>\n",
       "      <td>5/29/2023</td>\n",
       "      <td>5/25/2023</td>\n",
       "      <td>1100</td>\n",
       "      <td>25</td>\n",
       "      <td>M</td>\n",
       "      <td>11:00</td>\n",
       "      <td>11</td>\n",
       "      <td>0</td>\n",
       "      <td>11.000000</td>\n",
       "      <td>Day</td>\n",
       "      <td>18-25</td>\n",
       "    </tr>\n",
       "    <tr>\n",
       "      <th>247984</th>\n",
       "      <td>231604807</td>\n",
       "      <td>1/27/2023</td>\n",
       "      <td>1/26/2023</td>\n",
       "      <td>1800</td>\n",
       "      <td>23</td>\n",
       "      <td>M</td>\n",
       "      <td>18:00</td>\n",
       "      <td>18</td>\n",
       "      <td>0</td>\n",
       "      <td>18.000000</td>\n",
       "      <td>Day</td>\n",
       "      <td>18-25</td>\n",
       "    </tr>\n",
       "    <tr>\n",
       "      <th>247985</th>\n",
       "      <td>231606525</td>\n",
       "      <td>3/22/2023</td>\n",
       "      <td>3/22/2023</td>\n",
       "      <td>1000</td>\n",
       "      <td>25</td>\n",
       "      <td>F</td>\n",
       "      <td>10:00</td>\n",
       "      <td>10</td>\n",
       "      <td>0</td>\n",
       "      <td>10.000000</td>\n",
       "      <td>Day</td>\n",
       "      <td>18-25</td>\n",
       "    </tr>\n",
       "    <tr>\n",
       "      <th>247986</th>\n",
       "      <td>231210064</td>\n",
       "      <td>4/12/2023</td>\n",
       "      <td>4/12/2023</td>\n",
       "      <td>1630</td>\n",
       "      <td>29</td>\n",
       "      <td>M</td>\n",
       "      <td>16:30</td>\n",
       "      <td>16</td>\n",
       "      <td>30</td>\n",
       "      <td>16.500000</td>\n",
       "      <td>Day</td>\n",
       "      <td>26-34</td>\n",
       "    </tr>\n",
       "    <tr>\n",
       "      <th>247987</th>\n",
       "      <td>230906458</td>\n",
       "      <td>3/5/2023</td>\n",
       "      <td>3/5/2023</td>\n",
       "      <td>900</td>\n",
       "      <td>53</td>\n",
       "      <td>F</td>\n",
       "      <td>09:00</td>\n",
       "      <td>9</td>\n",
       "      <td>0</td>\n",
       "      <td>9.000000</td>\n",
       "      <td>Day</td>\n",
       "      <td>45-54</td>\n",
       "    </tr>\n",
       "  </tbody>\n",
       "</table>\n",
       "<p>247988 rows × 12 columns</p>\n",
       "</div>"
      ],
      "text/plain": [
       "        REGISTRATION_NO Date Registered DATE OF EXAM OCC TIME OCC  Age  Sex  \\\n",
       "0             221412410       6/15/2022       11/12/2020     1700    0  NaN   \n",
       "1             220314085       7/22/2022        5/12/2020     1110   27    F   \n",
       "2             222013040        8/6/2022         6/4/2020     1620   60    M   \n",
       "3             220614831       8/18/2022        8/17/2020     1200   28    M   \n",
       "4             231207725       2/27/2023        1/27/2020      635   37    M   \n",
       "...                 ...             ...              ...      ...  ...  ...   \n",
       "247983        231510379       5/29/2023        5/25/2023     1100   25    M   \n",
       "247984        231604807       1/27/2023        1/26/2023     1800   23    M   \n",
       "247985        231606525       3/22/2023        3/22/2023     1000   25    F   \n",
       "247986        231210064       4/12/2023        4/12/2023     1630   29    M   \n",
       "247987        230906458        3/5/2023         3/5/2023      900   53    F   \n",
       "\n",
       "       Hour_Minute  Hour  Minutes      Hours Day_Night Age_Group  \n",
       "0            17:00    17        0  17.000000       Day      0-17  \n",
       "1            11:10    11       10  11.166667       Day     26-34  \n",
       "2            16:20    16       20  16.333333       Day     55-64  \n",
       "3            12:00    12        0  12.000000       Day     26-34  \n",
       "4            06:35     6       35   6.583333       Day     35-44  \n",
       "...            ...   ...      ...        ...       ...       ...  \n",
       "247983       11:00    11        0  11.000000       Day     18-25  \n",
       "247984       18:00    18        0  18.000000       Day     18-25  \n",
       "247985       10:00    10        0  10.000000       Day     18-25  \n",
       "247986       16:30    16       30  16.500000       Day     26-34  \n",
       "247987       09:00     9        0   9.000000       Day     45-54  \n",
       "\n",
       "[247988 rows x 12 columns]"
      ]
     },
     "execution_count": 125,
     "metadata": {},
     "output_type": "execute_result"
    }
   ],
   "source": [
    "SKYA"
   ]
  },
  {
   "cell_type": "markdown",
   "id": "ed2de172",
   "metadata": {},
   "source": [
    "# Now printing frequencies of newly created columns Age_Group where it will show distinct count of candidates who are present in that Age_Group"
   ]
  },
  {
   "cell_type": "code",
   "execution_count": 123,
   "id": "6ab54040",
   "metadata": {},
   "outputs": [
    {
     "name": "stdout",
     "output_type": "stream",
     "text": [
      "0-17     66801\n",
      "18-25    28291\n",
      "26-34    47470\n",
      "35-44    42157\n",
      "45-54    28353\n",
      "55-64    20169\n",
      "65+      14747\n",
      "Name: Age_Group, dtype: int64\n"
     ]
    }
   ],
   "source": [
    "age_group_frequency = SKYA['Age_Group'].value_counts().sort_index()\n",
    "\n",
    "print(age_group_frequency)"
   ]
  },
  {
   "cell_type": "markdown",
   "id": "69f33851",
   "metadata": {},
   "source": [
    "# Showing the frequencies through Histogram Plot"
   ]
  },
  {
   "cell_type": "code",
   "execution_count": 124,
   "id": "18b81fab",
   "metadata": {},
   "outputs": [
    {
     "data": {
      "image/png": "[encoded data removed]",
      "text/plain": [
       "<Figure size 432x288 with 1 Axes>"
      ]
     },
     "metadata": {
      "needs_background": "light"
     },
     "output_type": "display_data"
    }
   ],
   "source": [
    "sns.histplot(SKYA['Age_Group'], bins=7, color='blue')\n",
    "\n",
    "plt.xlabel('Age Group')\n",
    "plt.ylabel('Age Group frequency')\n",
    "plt.title('Number of Candidates Scheduled to Write Exam in Different Age Groups')\n",
    "\n",
    "plt.show()"
   ]
  },
  {
   "cell_type": "markdown",
   "id": "eb1548d3",
   "metadata": {},
   "source": [
    "# Conclusion: Age between 0-17 have more participation"
   ]
  }
 ],
 "metadata": {
  "kernelspec": {
   "display_name": "Python 3",
   "language": "python",
   "name": "python3"
  },
  "language_info": {
   "codemirror_mode": {
    "name": "ipython",
    "version": 3
   },
   "file_extension": ".py",
   "mimetype": "text/x-python",
   "name": "python",
   "nbconvert_exporter": "python",
   "pygments_lexer": "ipython3",
   "version": "3.8.8"
  }
 },
 "nbformat": 4,
 "nbformat_minor": 5
}
